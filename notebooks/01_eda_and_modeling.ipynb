{
 "cells": [
  {
   "cell_type": "markdown",
   "id": "3f1e0382",
   "metadata": {},
   "source": [
    "# 📘 PaySim Anomaly Detection - Modeling Notebook"
   ]
  },
  {
   "cell_type": "code",
   "execution_count": null,
   "id": "0e783272",
   "metadata": {},
   "outputs": [],
   "source": [
    "\n",
    "import pandas as pd\n",
    "import numpy as np\n",
    "import seaborn as sns\n",
    "import matplotlib.pyplot as plt\n",
    "\n",
    "from sklearn.ensemble import IsolationForest\n",
    "from sklearn.preprocessing import StandardScaler\n",
    "from sklearn.metrics import classification_report, confusion_matrix, roc_auc_score, ConfusionMatrixDisplay\n",
    "\n",
    "# Load dataset\n",
    "df = pd.read_csv('../data/transactions.csv')\n",
    "print(\"Total transactions:\", df.shape[0])\n",
    "print(df['isFraud'].value_counts())\n",
    "print(\"Transaction types:\", df['type'].unique())\n"
   ]
  },
  {
   "cell_type": "code",
   "execution_count": null,
   "id": "32da9298",
   "metadata": {},
   "outputs": [],
   "source": [
    "\n",
    "# Visualize fraud distribution\n",
    "sns.countplot(data=df, x='type', hue='isFraud')\n",
    "plt.title(\"Fraudulent Transactions by Type\")\n",
    "plt.xticks(rotation=45)\n",
    "plt.show()\n"
   ]
  },
  {
   "cell_type": "code",
   "execution_count": null,
   "id": "521e420e",
   "metadata": {},
   "outputs": [],
   "source": [
    "\n",
    "# Feature engineering\n",
    "df['amount_log'] = np.log1p(df['amount'])\n",
    "df = df.drop(columns=['nameOrig', 'nameDest'])\n",
    "\n",
    "# Select features\n",
    "features = ['amount_log', 'step', 'isFlaggedFraud',\n",
    "            'oldbalanceOrg','newbalanceOrig',\n",
    "            'oldbalanceDest','newbalanceDest']\n",
    "X = df[features].values\n",
    "y = df['isFraud'].values\n",
    "\n",
    "# Scale features\n",
    "scaler = StandardScaler()\n",
    "X_scaled = scaler.fit_transform(X)\n"
   ]
  },
  {
   "cell_type": "code",
   "execution_count": null,
   "id": "45faa8fa",
   "metadata": {},
   "outputs": [],
   "source": [
    "\n",
    "# Train Isolation Forest\n",
    "iso = IsolationForest(n_estimators=200, contamination=y.mean(), random_state=42)\n",
    "iso.fit(X_scaled)\n",
    "\n",
    "# Predictions\n",
    "scores = iso.decision_function(X_scaled)\n",
    "y_pred = (iso.predict(X_scaled) == -1).astype(int)\n"
   ]
  },
  {
   "cell_type": "code",
   "execution_count": null,
   "id": "cf4d5bca",
   "metadata": {},
   "outputs": [],
   "source": [
    "\n",
    "# Evaluation\n",
    "print(classification_report(y, y_pred, digits=4))\n",
    "print(\"ROC AUC Score:\", roc_auc_score(y, scores))\n",
    "ConfusionMatrixDisplay.from_predictions(y, y_pred, cmap=\"Blues\")\n",
    "plt.title(\"Anomaly Detection Confusion Matrix\")\n",
    "plt.show()\n"
   ]
  },
  {
   "cell_type": "code",
   "execution_count": null,
   "id": "197fb45e",
   "metadata": {},
   "outputs": [],
   "source": [
    "\n",
    "# Score distribution\n",
    "sns.histplot(scores, kde=True, bins=50)\n",
    "plt.title(\"Anomaly Score Distribution\")\n",
    "plt.xlabel(\"Anomaly Score (lower = more anomalous)\")\n",
    "plt.show()\n"
   ]
  }
 ],
 "metadata": {},
 "nbformat": 4,
 "nbformat_minor": 5
}